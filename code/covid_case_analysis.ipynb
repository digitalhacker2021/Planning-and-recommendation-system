{
 "cells": [
  {
   "cell_type": "markdown",
   "metadata": {},
   "source": [
    "## Import Libraries"
   ]
  },
  {
   "cell_type": "code",
   "execution_count": 1,
   "metadata": {},
   "outputs": [],
   "source": [
    "import pandas as pd\n",
    "import numpy as np\n",
    "import matplotlib.pyplot as plt\n",
    "import seaborn as sns\n",
    "\n",
    "# statesmodels library\n",
    "from pmdarima import auto_arima\n",
    "from statsmodels.tsa.arima_model import ARIMA\n",
    "from statsmodels.tsa.statespace.sarimax import SARIMAX\n",
    "from statsmodels.tsa.stattools import adfuller, grangercausalitytests\n",
    "from statsmodels.tsa.statespace.varmax import VARMAX\n",
    "from statsmodels.tsa.api import VAR\n",
    "from statsmodels.tools.eval_measures import rmse,meanabs\n",
    "\n",
    "import joblib\n",
    "import warnings\n",
    "warnings.filterwarnings(\"ignore\")\n",
    "sns.set_style(\"darkgrid\")"
   ]
  },
  {
   "cell_type": "markdown",
   "metadata": {},
   "source": [
    "## Load the data"
   ]
  },
  {
   "cell_type": "code",
   "execution_count": 2,
   "metadata": {},
   "outputs": [
    {
     "data": {
      "text/html": [
       "<div>\n",
       "<style scoped>\n",
       "    .dataframe tbody tr th:only-of-type {\n",
       "        vertical-align: middle;\n",
       "    }\n",
       "\n",
       "    .dataframe tbody tr th {\n",
       "        vertical-align: top;\n",
       "    }\n",
       "\n",
       "    .dataframe thead th {\n",
       "        text-align: right;\n",
       "    }\n",
       "</style>\n",
       "<table border=\"1\" class=\"dataframe\">\n",
       "  <thead>\n",
       "    <tr style=\"text-align: right;\">\n",
       "      <th></th>\n",
       "      <th>notification_date</th>\n",
       "      <th>postcode</th>\n",
       "      <th>likely_source_of_infection</th>\n",
       "      <th>lhd_2010_code</th>\n",
       "      <th>lhd_2010_name</th>\n",
       "      <th>lga_code19</th>\n",
       "      <th>lga_name19</th>\n",
       "    </tr>\n",
       "  </thead>\n",
       "  <tbody>\n",
       "    <tr>\n",
       "      <th>0</th>\n",
       "      <td>2020-01-25</td>\n",
       "      <td>2134</td>\n",
       "      <td>Overseas</td>\n",
       "      <td>X700</td>\n",
       "      <td>Sydney</td>\n",
       "      <td>11300.0</td>\n",
       "      <td>Burwood (A)</td>\n",
       "    </tr>\n",
       "    <tr>\n",
       "      <th>1</th>\n",
       "      <td>2020-01-25</td>\n",
       "      <td>2121</td>\n",
       "      <td>Overseas</td>\n",
       "      <td>X760</td>\n",
       "      <td>Northern Sydney</td>\n",
       "      <td>16260.0</td>\n",
       "      <td>Parramatta (C)</td>\n",
       "    </tr>\n",
       "    <tr>\n",
       "      <th>2</th>\n",
       "      <td>2020-01-25</td>\n",
       "      <td>2071</td>\n",
       "      <td>Overseas</td>\n",
       "      <td>X760</td>\n",
       "      <td>Northern Sydney</td>\n",
       "      <td>14500.0</td>\n",
       "      <td>Ku-ring-gai (A)</td>\n",
       "    </tr>\n",
       "    <tr>\n",
       "      <th>3</th>\n",
       "      <td>2020-01-27</td>\n",
       "      <td>2033</td>\n",
       "      <td>Overseas</td>\n",
       "      <td>X720</td>\n",
       "      <td>South Eastern Sydney</td>\n",
       "      <td>16550.0</td>\n",
       "      <td>Randwick (C)</td>\n",
       "    </tr>\n",
       "    <tr>\n",
       "      <th>4</th>\n",
       "      <td>2020-03-01</td>\n",
       "      <td>2163</td>\n",
       "      <td>Overseas</td>\n",
       "      <td>X710</td>\n",
       "      <td>South Western Sydney</td>\n",
       "      <td>12850.0</td>\n",
       "      <td>Fairfield (C)</td>\n",
       "    </tr>\n",
       "  </tbody>\n",
       "</table>\n",
       "</div>"
      ],
      "text/plain": [
       "  notification_date postcode likely_source_of_infection lhd_2010_code  \\\n",
       "0        2020-01-25     2134                   Overseas          X700   \n",
       "1        2020-01-25     2121                   Overseas          X760   \n",
       "2        2020-01-25     2071                   Overseas          X760   \n",
       "3        2020-01-27     2033                   Overseas          X720   \n",
       "4        2020-03-01     2163                   Overseas          X710   \n",
       "\n",
       "          lhd_2010_name  lga_code19       lga_name19  \n",
       "0                Sydney     11300.0      Burwood (A)  \n",
       "1       Northern Sydney     16260.0   Parramatta (C)  \n",
       "2       Northern Sydney     14500.0  Ku-ring-gai (A)  \n",
       "3  South Eastern Sydney     16550.0     Randwick (C)  \n",
       "4  South Western Sydney     12850.0    Fairfield (C)  "
      ]
     },
     "execution_count": 2,
     "metadata": {},
     "output_type": "execute_result"
    }
   ],
   "source": [
    "# NSW data\n",
    "\n",
    "df = pd.read_csv(\"NSW.csv\")\n",
    "\n",
    "df.head()"
   ]
  },
  {
   "cell_type": "markdown",
   "metadata": {},
   "source": [
    "## Data cleaning and visualization"
   ]
  },
  {
   "cell_type": "code",
   "execution_count": 3,
   "metadata": {},
   "outputs": [
    {
     "data": {
      "text/html": [
       "<div>\n",
       "<style scoped>\n",
       "    .dataframe tbody tr th:only-of-type {\n",
       "        vertical-align: middle;\n",
       "    }\n",
       "\n",
       "    .dataframe tbody tr th {\n",
       "        vertical-align: top;\n",
       "    }\n",
       "\n",
       "    .dataframe thead th {\n",
       "        text-align: right;\n",
       "    }\n",
       "</style>\n",
       "<table border=\"1\" class=\"dataframe\">\n",
       "  <thead>\n",
       "    <tr style=\"text-align: right;\">\n",
       "      <th></th>\n",
       "      <th>nsw_new_cases</th>\n",
       "    </tr>\n",
       "    <tr>\n",
       "      <th>notification_date</th>\n",
       "      <th></th>\n",
       "    </tr>\n",
       "  </thead>\n",
       "  <tbody>\n",
       "    <tr>\n",
       "      <th>2020-01-25</th>\n",
       "      <td>3</td>\n",
       "    </tr>\n",
       "    <tr>\n",
       "      <th>2020-01-27</th>\n",
       "      <td>1</td>\n",
       "    </tr>\n",
       "    <tr>\n",
       "      <th>2020-03-01</th>\n",
       "      <td>2</td>\n",
       "    </tr>\n",
       "    <tr>\n",
       "      <th>2020-03-02</th>\n",
       "      <td>3</td>\n",
       "    </tr>\n",
       "    <tr>\n",
       "      <th>2020-03-03</th>\n",
       "      <td>6</td>\n",
       "    </tr>\n",
       "  </tbody>\n",
       "</table>\n",
       "</div>"
      ],
      "text/plain": [
       "                   nsw_new_cases\n",
       "notification_date               \n",
       "2020-01-25                     3\n",
       "2020-01-27                     1\n",
       "2020-03-01                     2\n",
       "2020-03-02                     3\n",
       "2020-03-03                     6"
      ]
     },
     "execution_count": 3,
     "metadata": {},
     "output_type": "execute_result"
    }
   ],
   "source": [
    "date_list = list(df['notification_date'].unique())\n",
    "\n",
    "df['nsw_new_cases'] = df['notification_date'].apply(lambda x:df.query(\"notification_date==@x\").shape[0])\n",
    "\n",
    "df.drop_duplicates(subset='notification_date',keep='first',inplace=True)\n",
    "\n",
    "df['notification_date'] = pd.to_datetime(df['notification_date'],format='%Y-%m-%d')\n",
    "\n",
    "df.set_index('notification_date',inplace=True)\n",
    "\n",
    "# we are considering the new case count\n",
    "final_df = df[['nsw_new_cases']]\n",
    "\n",
    "final_df.head()"
   ]
  },
  {
   "cell_type": "code",
   "execution_count": 4,
   "metadata": {},
   "outputs": [
    {
     "data": {
      "text/html": [
       "<div>\n",
       "<style scoped>\n",
       "    .dataframe tbody tr th:only-of-type {\n",
       "        vertical-align: middle;\n",
       "    }\n",
       "\n",
       "    .dataframe tbody tr th {\n",
       "        vertical-align: top;\n",
       "    }\n",
       "\n",
       "    .dataframe thead th {\n",
       "        text-align: right;\n",
       "    }\n",
       "</style>\n",
       "<table border=\"1\" class=\"dataframe\">\n",
       "  <thead>\n",
       "    <tr style=\"text-align: right;\">\n",
       "      <th></th>\n",
       "      <th>aus_new_cases</th>\n",
       "    </tr>\n",
       "    <tr>\n",
       "      <th>date</th>\n",
       "      <th></th>\n",
       "    </tr>\n",
       "  </thead>\n",
       "  <tbody>\n",
       "    <tr>\n",
       "      <th>2020-01-26</th>\n",
       "      <td>4.0</td>\n",
       "    </tr>\n",
       "    <tr>\n",
       "      <th>2020-01-27</th>\n",
       "      <td>1.0</td>\n",
       "    </tr>\n",
       "    <tr>\n",
       "      <th>2020-01-28</th>\n",
       "      <td>0.0</td>\n",
       "    </tr>\n",
       "    <tr>\n",
       "      <th>2020-01-29</th>\n",
       "      <td>1.0</td>\n",
       "    </tr>\n",
       "    <tr>\n",
       "      <th>2020-01-30</th>\n",
       "      <td>3.0</td>\n",
       "    </tr>\n",
       "  </tbody>\n",
       "</table>\n",
       "</div>"
      ],
      "text/plain": [
       "            aus_new_cases\n",
       "date                     \n",
       "2020-01-26            4.0\n",
       "2020-01-27            1.0\n",
       "2020-01-28            0.0\n",
       "2020-01-29            1.0\n",
       "2020-01-30            3.0"
      ]
     },
     "execution_count": 4,
     "metadata": {},
     "output_type": "execute_result"
    }
   ],
   "source": [
    "# Australia data\n",
    "\n",
    "data = pd.read_csv(\"owid-covid-data.csv\",index_col='date')\n",
    "\n",
    "aus_df = pd.DataFrame(data.query(\"location=='Australia'\")['new_cases'])\n",
    "aus_df.rename(columns={'new_cases':'aus_new_cases'},inplace=True)\n",
    "\n",
    "aus_df.head()"
   ]
  },
  {
   "cell_type": "code",
   "execution_count": 5,
   "metadata": {},
   "outputs": [
    {
     "name": "stdout",
     "output_type": "stream",
     "text": [
      "The shape of NSW daily covid count data: (514, 1)\n",
      "The shape of Australia daily covid count data: (572, 1)\n"
     ]
    }
   ],
   "source": [
    "print(\"The shape of NSW daily covid count data: {}\".format(final_df.shape))\n",
    "print(\"The shape of Australia daily covid count data: {}\".format(aus_df.shape))"
   ]
  },
  {
   "cell_type": "code",
   "execution_count": 6,
   "metadata": {},
   "outputs": [
    {
     "data": {
      "text/html": [
       "<div>\n",
       "<style scoped>\n",
       "    .dataframe tbody tr th:only-of-type {\n",
       "        vertical-align: middle;\n",
       "    }\n",
       "\n",
       "    .dataframe tbody tr th {\n",
       "        vertical-align: top;\n",
       "    }\n",
       "\n",
       "    .dataframe thead th {\n",
       "        text-align: right;\n",
       "    }\n",
       "</style>\n",
       "<table border=\"1\" class=\"dataframe\">\n",
       "  <thead>\n",
       "    <tr style=\"text-align: right;\">\n",
       "      <th></th>\n",
       "      <th>aus_new_cases</th>\n",
       "      <th>nsw_new_cases</th>\n",
       "    </tr>\n",
       "  </thead>\n",
       "  <tbody>\n",
       "    <tr>\n",
       "      <th>2020-01-25</th>\n",
       "      <td>NaN</td>\n",
       "      <td>3.0</td>\n",
       "    </tr>\n",
       "    <tr>\n",
       "      <th>2020-01-26</th>\n",
       "      <td>4.0</td>\n",
       "      <td>NaN</td>\n",
       "    </tr>\n",
       "    <tr>\n",
       "      <th>2020-01-27</th>\n",
       "      <td>1.0</td>\n",
       "      <td>1.0</td>\n",
       "    </tr>\n",
       "    <tr>\n",
       "      <th>2020-01-28</th>\n",
       "      <td>0.0</td>\n",
       "      <td>NaN</td>\n",
       "    </tr>\n",
       "    <tr>\n",
       "      <th>2020-01-29</th>\n",
       "      <td>1.0</td>\n",
       "      <td>NaN</td>\n",
       "    </tr>\n",
       "  </tbody>\n",
       "</table>\n",
       "</div>"
      ],
      "text/plain": [
       "            aus_new_cases  nsw_new_cases\n",
       "2020-01-25            NaN            3.0\n",
       "2020-01-26            4.0            NaN\n",
       "2020-01-27            1.0            1.0\n",
       "2020-01-28            0.0            NaN\n",
       "2020-01-29            1.0            NaN"
      ]
     },
     "execution_count": 6,
     "metadata": {},
     "output_type": "execute_result"
    }
   ],
   "source": [
    "# merge NSW data with Australia data\n",
    "merged_df = pd.merge(aus_df,final_df,how='outer',left_index=True,right_index=True)\n",
    "\n",
    "merged_df.head()"
   ]
  },
  {
   "cell_type": "code",
   "execution_count": 7,
   "metadata": {},
   "outputs": [
    {
     "data": {
      "image/png": "[encoded data removed]",
      "text/plain": [
       "<Figure size 864x576 with 2 Axes>"
      ]
     },
     "metadata": {},
     "output_type": "display_data"
    }
   ],
   "source": [
    "fig,axes = plt.subplots(1,2,figsize=(12,8))\n",
    "labels = ['2020-01','2020-03','2020-05','2020-07','2020-09','2020-11','2021-01','2021-03','2021-05','2021-07','2021-09']\n",
    "titles = ['Daily new covid cases in Australia','Daily new covid cases in NSW']\n",
    "\n",
    "for i,ax in enumerate(axes.flatten()):\n",
    "    data = merged_df[merged_df.columns[i]]\n",
    "    ax.plot(data)\n",
    "    ax.set_xticklabels(labels,rotation=45)\n",
    "    ax.set_title(titles[i])\n",
    "\n",
    "plt.tight_layout()    "
   ]
  },
  {
   "cell_type": "code",
   "execution_count": 8,
   "metadata": {},
   "outputs": [
    {
     "data": {
      "text/plain": [
       "aus_new_cases     1\n",
       "nsw_new_cases    59\n",
       "dtype: int64"
      ]
     },
     "execution_count": 8,
     "metadata": {},
     "output_type": "execute_result"
    }
   ],
   "source": [
    "# check if there is any null value\n",
    "merged_df.isnull().sum()"
   ]
  },
  {
   "cell_type": "code",
   "execution_count": 9,
   "metadata": {},
   "outputs": [],
   "source": [
    "# impute the null values with backwardfill method\n",
    "merged_df.fillna(method='bfill',inplace=True)"
   ]
  },
  {
   "cell_type": "code",
   "execution_count": 10,
   "metadata": {},
   "outputs": [
    {
     "data": {
      "text/plain": [
       "aus_new_cases    0\n",
       "nsw_new_cases    0\n",
       "dtype: int64"
      ]
     },
     "execution_count": 10,
     "metadata": {},
     "output_type": "execute_result"
    }
   ],
   "source": [
    "# check if there is any null value remaining\n",
    "merged_df.isnull().sum()"
   ]
  },
  {
   "cell_type": "code",
   "execution_count": 43,
   "metadata": {},
   "outputs": [],
   "source": [
    "# save the cleaned dataframe\n",
    "import joblib"
   ]
  },
  {
   "cell_type": "code",
   "execution_count": 45,
   "metadata": {},
   "outputs": [
    {
     "data": {
      "text/plain": [
       "['daily_case_cleaned_data.csv']"
      ]
     },
     "execution_count": 45,
     "metadata": {},
     "output_type": "execute_result"
    }
   ],
   "source": [
    "joblib.dump(merged_df,'daily_case_cleaned_data.csv')"
   ]
  },
  {
   "cell_type": "markdown",
   "metadata": {},
   "source": [
    "## Statistical Tests"
   ]
  },
  {
   "cell_type": "code",
   "execution_count": 13,
   "metadata": {},
   "outputs": [
    {
     "name": "stdout",
     "output_type": "stream",
     "text": [
      "Australia\n",
      "p-value: 0.026434327405406154\n",
      "NSW\n",
      "p-value: 3.949036439944995e-14\n",
      "\n",
      "Both the series are stationary\n"
     ]
    }
   ],
   "source": [
    "# stationarity check\n",
    "\n",
    "ad_fuller_1 = adfuller(merged_df['aus_new_cases'].diff()[1:])\n",
    "print(\"Australia\")\n",
    "print(\"p-value: {}\".format(ad_fuller_1[1]))\n",
    "\n",
    "ad_fuller_2 = adfuller(merged_df['nsw_new_cases'].diff().diff()[2:])\n",
    "print(\"NSW\")\n",
    "print(\"p-value: {}\\n\".format(ad_fuller_2[1]))\n",
    "\n",
    "if ((ad_fuller_1[1] < 0.05) and (ad_fuller_2[1] < 0.05)):\n",
    "    print(\"Both the series are stationary\")\n",
    "else:\n",
    "    print(\"Atleast one of the series is non-stationary\")"
   ]
  },
  {
   "cell_type": "code",
   "execution_count": 14,
   "metadata": {},
   "outputs": [
    {
     "name": "stdout",
     "output_type": "stream",
     "text": [
      "\n",
      "Granger Causality\n",
      "number of lags (no zero) 1\n",
      "ssr based F test:         F=35.6549 , p=0.0000  , df_denom=569, df_num=1\n",
      "ssr based chi2 test:   chi2=35.8429 , p=0.0000  , df=1\n",
      "likelihood ratio test: chi2=34.7647 , p=0.0000  , df=1\n",
      "parameter F test:         F=35.6549 , p=0.0000  , df_denom=569, df_num=1\n",
      "\n",
      "Granger Causality\n",
      "number of lags (no zero) 2\n",
      "ssr based F test:         F=20.6641 , p=0.0000  , df_denom=566, df_num=2\n",
      "ssr based chi2 test:   chi2=41.6934 , p=0.0000  , df=2\n",
      "likelihood ratio test: chi2=40.2414 , p=0.0000  , df=2\n",
      "parameter F test:         F=20.6641 , p=0.0000  , df_denom=566, df_num=2\n",
      "\n",
      "Granger Causality\n",
      "number of lags (no zero) 1\n",
      "ssr based F test:         F=35.6549 , p=0.0000  , df_denom=569, df_num=1\n",
      "ssr based chi2 test:   chi2=35.8429 , p=0.0000  , df=1\n",
      "likelihood ratio test: chi2=34.7647 , p=0.0000  , df=1\n",
      "parameter F test:         F=35.6549 , p=0.0000  , df_denom=569, df_num=1\n",
      "\n",
      "Granger Causality\n",
      "number of lags (no zero) 2\n",
      "ssr based F test:         F=20.6641 , p=0.0000  , df_denom=566, df_num=2\n",
      "ssr based chi2 test:   chi2=41.6934 , p=0.0000  , df=2\n",
      "likelihood ratio test: chi2=40.2414 , p=0.0000  , df=2\n",
      "parameter F test:         F=20.6641 , p=0.0000  , df_denom=566, df_num=2\n"
     ]
    }
   ],
   "source": [
    "# correlation check\n",
    "\n",
    "gran_1 = grangercausalitytests(merged_df[['aus_new_cases','nsw_new_cases']],2)\n",
    "\n",
    "\n",
    "gran_2 = grangercausalitytests(merged_df[['aus_new_cases','nsw_new_cases']],2)"
   ]
  },
  {
   "cell_type": "markdown",
   "metadata": {},
   "source": [
    "Using Granger causality test we see that the time series are correlated."
   ]
  },
  {
   "cell_type": "markdown",
   "metadata": {},
   "source": [
    "## Split the data into train and test parts"
   ]
  },
  {
   "cell_type": "code",
   "execution_count": 17,
   "metadata": {},
   "outputs": [
    {
     "name": "stdout",
     "output_type": "stream",
     "text": [
      "(543, 2)\n",
      "(30, 2)\n"
     ]
    }
   ],
   "source": [
    "train_df = merged_df.iloc[:-30,0:2]\n",
    "test_df = merged_df.iloc[-30:,0:2]\n",
    "\n",
    "print(train_df.shape)\n",
    "print(test_df.shape)"
   ]
  },
  {
   "cell_type": "code",
   "execution_count": 18,
   "metadata": {},
   "outputs": [
    {
     "data": {
      "text/html": [
       "<div>\n",
       "<style scoped>\n",
       "    .dataframe tbody tr th:only-of-type {\n",
       "        vertical-align: middle;\n",
       "    }\n",
       "\n",
       "    .dataframe tbody tr th {\n",
       "        vertical-align: top;\n",
       "    }\n",
       "\n",
       "    .dataframe thead th {\n",
       "        text-align: right;\n",
       "    }\n",
       "</style>\n",
       "<table border=\"1\" class=\"dataframe\">\n",
       "  <thead>\n",
       "    <tr style=\"text-align: right;\">\n",
       "      <th></th>\n",
       "      <th>aus_new_cases</th>\n",
       "      <th>nsw_new_cases</th>\n",
       "    </tr>\n",
       "  </thead>\n",
       "  <tbody>\n",
       "    <tr>\n",
       "      <th>2020-01-25</th>\n",
       "      <td>4.0</td>\n",
       "      <td>3.0</td>\n",
       "    </tr>\n",
       "    <tr>\n",
       "      <th>2020-01-26</th>\n",
       "      <td>4.0</td>\n",
       "      <td>1.0</td>\n",
       "    </tr>\n",
       "    <tr>\n",
       "      <th>2020-01-27</th>\n",
       "      <td>1.0</td>\n",
       "      <td>1.0</td>\n",
       "    </tr>\n",
       "    <tr>\n",
       "      <th>2020-01-28</th>\n",
       "      <td>0.0</td>\n",
       "      <td>2.0</td>\n",
       "    </tr>\n",
       "    <tr>\n",
       "      <th>2020-01-29</th>\n",
       "      <td>1.0</td>\n",
       "      <td>2.0</td>\n",
       "    </tr>\n",
       "  </tbody>\n",
       "</table>\n",
       "</div>"
      ],
      "text/plain": [
       "            aus_new_cases  nsw_new_cases\n",
       "2020-01-25            4.0            3.0\n",
       "2020-01-26            4.0            1.0\n",
       "2020-01-27            1.0            1.0\n",
       "2020-01-28            0.0            2.0\n",
       "2020-01-29            1.0            2.0"
      ]
     },
     "execution_count": 18,
     "metadata": {},
     "output_type": "execute_result"
    }
   ],
   "source": [
    "train_df.head()"
   ]
  },
  {
   "cell_type": "markdown",
   "metadata": {},
   "source": [
    "## Build and fit the model"
   ]
  },
  {
   "cell_type": "code",
   "execution_count": 19,
   "metadata": {},
   "outputs": [
    {
     "name": "stdout",
     "output_type": "stream",
     "text": [
      " VAR Order Selection (* highlights the minimums)  \n",
      "==================================================\n",
      "       AIC         BIC         FPE         HQIC   \n",
      "--------------------------------------------------\n",
      "0        12.24       12.26   2.071e+05       12.25\n",
      "1        11.88       11.93   1.449e+05       11.90\n",
      "2        11.64       11.72   1.134e+05       11.67\n",
      "3        11.58       11.69   1.070e+05       11.62\n",
      "4        11.59       11.74   1.082e+05       11.65\n",
      "5        11.53       11.71   1.020e+05       11.60\n",
      "6        11.48       11.69   9.651e+04       11.56\n",
      "7        11.43      11.68*   9.227e+04       11.53\n",
      "8        11.41       11.69   9.011e+04       11.52\n",
      "9        11.38       11.69   8.764e+04       11.50\n",
      "10       11.38       11.72   8.759e+04       11.51\n",
      "11       11.38       11.75   8.736e+04       11.52\n",
      "12       11.34       11.75   8.412e+04      11.50*\n",
      "13       11.33       11.77   8.370e+04       11.51\n",
      "14       11.33       11.80   8.320e+04       11.51\n",
      "15       11.34       11.85   8.425e+04       11.54\n",
      "16       11.35       11.89   8.518e+04       11.56\n",
      "17       11.35       11.91   8.458e+04       11.57\n",
      "18      11.32*       11.92  8.259e+04*       11.56\n",
      "--------------------------------------------------\n"
     ]
    }
   ],
   "source": [
    "model = VAR(train_df.diff()[1:])\n",
    "\n",
    "sorted_order = model.select_order()\n",
    "print(sorted_order.summary())"
   ]
  },
  {
   "cell_type": "code",
   "execution_count": 20,
   "metadata": {},
   "outputs": [],
   "source": [
    "var_model = VARMAX(train_df,order=(18,0),enforce_stationarity=True)\n",
    "\n",
    "fitted_model = var_model.fit(disp=False)"
   ]
  },
  {
   "cell_type": "code",
   "execution_count": 21,
   "metadata": {},
   "outputs": [],
   "source": [
    "n_forecast = 30\n",
    "\n",
    "start = len(train_df)\n",
    "end = start + n_forecast\n",
    "\n",
    "predict = fitted_model.get_prediction(start=start,end=end)\n",
    "\n",
    "predictions = predict.predicted_mean\n",
    "\n",
    "predictions.rename(columns={'aus_new_cases':'aus_new_cases_pred',\n",
    "                            'nsw_new_cases':'nsw_new_cases_pred'},inplace=True)"
   ]
  },
  {
   "cell_type": "code",
   "execution_count": 22,
   "metadata": {},
   "outputs": [],
   "source": [
    "test_df.index = pd.to_datetime(test_df.index)\n",
    "\n",
    "true_vs_preds = pd.concat([test_df,predictions.iloc[:-1,:]],axis=1)"
   ]
  },
  {
   "cell_type": "markdown",
   "metadata": {},
   "source": [
    "## Forecast into the future"
   ]
  },
  {
   "cell_type": "markdown",
   "metadata": {},
   "source": [
    "### (a) 15 days forecast"
   ]
  },
  {
   "cell_type": "code",
   "execution_count": 30,
   "metadata": {},
   "outputs": [],
   "source": [
    "# train the model on the entire data\n",
    "\n",
    "final_var_model = VARMAX(merged_df,order=(18,0),enforce_stationarity=True)\n",
    "\n",
    "final_fitted_model = final_var_model.fit(disp=False)\n",
    "\n",
    "# specify the forecast horizon\n",
    "\n",
    "forecast_len = 15\n",
    "future_df = pd.DataFrame()\n",
    "future_df['date'] = np.arange('2021-08-20','2021-09-04',1,dtype='datetime64')\n",
    "future_df['date'] = future_df['date'].apply(lambda x: x.strftime('%Y-%m-%d'))\n",
    "future_df['date'] =  pd.to_datetime(future_df['date'],format='%Y-%m-%d')\n",
    "future_df = future_df.set_index('date')\n",
    "\n",
    "start = len(merged_df)\n",
    "end = start + forecast_len - 1\n",
    "\n",
    "# forecast into the future using the trained model\n",
    "forecast_15 = final_fitted_model.get_prediction(start=start,end=end)\n",
    "\n",
    "# build a dataframe holding these forecasts\n",
    "forecast_15_df = forecast_15.predicted_mean[['nsw_new_cases']]"
   ]
  },
  {
   "cell_type": "code",
   "execution_count": 31,
   "metadata": {},
   "outputs": [
    {
     "data": {
      "text/html": [
       "<div>\n",
       "<style scoped>\n",
       "    .dataframe tbody tr th:only-of-type {\n",
       "        vertical-align: middle;\n",
       "    }\n",
       "\n",
       "    .dataframe tbody tr th {\n",
       "        vertical-align: top;\n",
       "    }\n",
       "\n",
       "    .dataframe thead th {\n",
       "        text-align: right;\n",
       "    }\n",
       "</style>\n",
       "<table border=\"1\" class=\"dataframe\">\n",
       "  <thead>\n",
       "    <tr style=\"text-align: right;\">\n",
       "      <th></th>\n",
       "      <th>nsw_new_cases</th>\n",
       "    </tr>\n",
       "  </thead>\n",
       "  <tbody>\n",
       "    <tr>\n",
       "      <th>2021-08-20</th>\n",
       "      <td>558.036391</td>\n",
       "    </tr>\n",
       "    <tr>\n",
       "      <th>2021-08-21</th>\n",
       "      <td>610.938848</td>\n",
       "    </tr>\n",
       "    <tr>\n",
       "      <th>2021-08-22</th>\n",
       "      <td>572.472202</td>\n",
       "    </tr>\n",
       "    <tr>\n",
       "      <th>2021-08-23</th>\n",
       "      <td>620.459811</td>\n",
       "    </tr>\n",
       "    <tr>\n",
       "      <th>2021-08-24</th>\n",
       "      <td>620.740173</td>\n",
       "    </tr>\n",
       "    <tr>\n",
       "      <th>2021-08-25</th>\n",
       "      <td>614.238283</td>\n",
       "    </tr>\n",
       "    <tr>\n",
       "      <th>2021-08-26</th>\n",
       "      <td>473.163689</td>\n",
       "    </tr>\n",
       "    <tr>\n",
       "      <th>2021-08-27</th>\n",
       "      <td>555.803078</td>\n",
       "    </tr>\n",
       "    <tr>\n",
       "      <th>2021-08-28</th>\n",
       "      <td>583.289639</td>\n",
       "    </tr>\n",
       "    <tr>\n",
       "      <th>2021-08-29</th>\n",
       "      <td>586.224014</td>\n",
       "    </tr>\n",
       "    <tr>\n",
       "      <th>2021-08-30</th>\n",
       "      <td>569.330565</td>\n",
       "    </tr>\n",
       "    <tr>\n",
       "      <th>2021-08-31</th>\n",
       "      <td>705.204065</td>\n",
       "    </tr>\n",
       "    <tr>\n",
       "      <th>2021-09-01</th>\n",
       "      <td>555.407111</td>\n",
       "    </tr>\n",
       "    <tr>\n",
       "      <th>2021-09-02</th>\n",
       "      <td>558.530237</td>\n",
       "    </tr>\n",
       "    <tr>\n",
       "      <th>2021-09-03</th>\n",
       "      <td>644.850606</td>\n",
       "    </tr>\n",
       "  </tbody>\n",
       "</table>\n",
       "</div>"
      ],
      "text/plain": [
       "            nsw_new_cases\n",
       "2021-08-20     558.036391\n",
       "2021-08-21     610.938848\n",
       "2021-08-22     572.472202\n",
       "2021-08-23     620.459811\n",
       "2021-08-24     620.740173\n",
       "2021-08-25     614.238283\n",
       "2021-08-26     473.163689\n",
       "2021-08-27     555.803078\n",
       "2021-08-28     583.289639\n",
       "2021-08-29     586.224014\n",
       "2021-08-30     569.330565\n",
       "2021-08-31     705.204065\n",
       "2021-09-01     555.407111\n",
       "2021-09-02     558.530237\n",
       "2021-09-03     644.850606"
      ]
     },
     "execution_count": 31,
     "metadata": {},
     "output_type": "execute_result"
    }
   ],
   "source": [
    "# the forecast dataframe\n",
    "forecast_15_df"
   ]
  },
  {
   "cell_type": "code",
   "execution_count": 32,
   "metadata": {},
   "outputs": [],
   "source": [
    "# save the forecast into an excel format\n",
    "forecast_15_df.to_excel('nsw_forecst_15.xlsx')"
   ]
  },
  {
   "cell_type": "code",
   "execution_count": 38,
   "metadata": {},
   "outputs": [
    {
     "data": {
      "image/png": "[encoded data removed]",
      "text/plain": [
       "<Figure size 864x576 with 1 Axes>"
      ]
     },
     "metadata": {},
     "output_type": "display_data"
    }
   ],
   "source": [
    "# plot the forecasts\n",
    "fig_15, ax = plt.subplots(figsize=(12,8))\n",
    "ax.plot(final_df['nsw_new_cases'].loc['2020-12-01':],label='data') \n",
    "ax.plot(forecast_15_df['nsw_new_cases'],label='{} day VARMAX forecast'.format(15))\n",
    "\n",
    "plt.legend()\n",
    "plt.title(\"Forecast for daily covid cases in NSW\")\n",
    "plt.show()"
   ]
  },
  {
   "cell_type": "code",
   "execution_count": 40,
   "metadata": {},
   "outputs": [],
   "source": [
    "fig_15.savefig('forecast_15.png')"
   ]
  },
  {
   "cell_type": "markdown",
   "metadata": {},
   "source": [
    "### (b) 30 days forecast"
   ]
  },
  {
   "cell_type": "code",
   "execution_count": 34,
   "metadata": {},
   "outputs": [],
   "source": [
    "# train the model on the entire data\n",
    "\n",
    "final_var_model = VARMAX(merged_df,order=(18,0),enforce_stationarity=True)\n",
    "\n",
    "final_fitted_model = final_var_model.fit(disp=False)\n",
    "\n",
    "# specify the forecast horizon\n",
    "\n",
    "forecast_len = 30\n",
    "future_df = pd.DataFrame()\n",
    "future_df['date'] = np.arange('2021-08-20','2021-09-19',1,dtype='datetime64')\n",
    "future_df['date'] = future_df['date'].apply(lambda x: x.strftime('%Y-%m-%d'))\n",
    "future_df['date'] =  pd.to_datetime(future_df['date'],format='%Y-%m-%d')\n",
    "future_df = future_df.set_index('date')\n",
    "\n",
    "start = len(merged_df)\n",
    "end = start + forecast_len - 1\n",
    "\n",
    "# forecast into the future using the trained models\n",
    "forecast_30 = final_fitted_model.get_prediction(start=start,end=end)\n",
    "\n",
    "# build a dataframe holding these forecasts\n",
    "forecast_30_df = forecast_30.predicted_mean[['nsw_new_cases']]"
   ]
  },
  {
   "cell_type": "code",
   "execution_count": 35,
   "metadata": {},
   "outputs": [
    {
     "data": {
      "text/html": [
       "<div>\n",
       "<style scoped>\n",
       "    .dataframe tbody tr th:only-of-type {\n",
       "        vertical-align: middle;\n",
       "    }\n",
       "\n",
       "    .dataframe tbody tr th {\n",
       "        vertical-align: top;\n",
       "    }\n",
       "\n",
       "    .dataframe thead th {\n",
       "        text-align: right;\n",
       "    }\n",
       "</style>\n",
       "<table border=\"1\" class=\"dataframe\">\n",
       "  <thead>\n",
       "    <tr style=\"text-align: right;\">\n",
       "      <th></th>\n",
       "      <th>nsw_new_cases</th>\n",
       "    </tr>\n",
       "  </thead>\n",
       "  <tbody>\n",
       "    <tr>\n",
       "      <th>2021-08-20</th>\n",
       "      <td>558.036391</td>\n",
       "    </tr>\n",
       "    <tr>\n",
       "      <th>2021-08-21</th>\n",
       "      <td>610.938848</td>\n",
       "    </tr>\n",
       "    <tr>\n",
       "      <th>2021-08-22</th>\n",
       "      <td>572.472202</td>\n",
       "    </tr>\n",
       "    <tr>\n",
       "      <th>2021-08-23</th>\n",
       "      <td>620.459811</td>\n",
       "    </tr>\n",
       "    <tr>\n",
       "      <th>2021-08-24</th>\n",
       "      <td>620.740173</td>\n",
       "    </tr>\n",
       "    <tr>\n",
       "      <th>2021-08-25</th>\n",
       "      <td>614.238283</td>\n",
       "    </tr>\n",
       "    <tr>\n",
       "      <th>2021-08-26</th>\n",
       "      <td>473.163689</td>\n",
       "    </tr>\n",
       "    <tr>\n",
       "      <th>2021-08-27</th>\n",
       "      <td>555.803078</td>\n",
       "    </tr>\n",
       "    <tr>\n",
       "      <th>2021-08-28</th>\n",
       "      <td>583.289639</td>\n",
       "    </tr>\n",
       "    <tr>\n",
       "      <th>2021-08-29</th>\n",
       "      <td>586.224014</td>\n",
       "    </tr>\n",
       "    <tr>\n",
       "      <th>2021-08-30</th>\n",
       "      <td>569.330565</td>\n",
       "    </tr>\n",
       "    <tr>\n",
       "      <th>2021-08-31</th>\n",
       "      <td>705.204065</td>\n",
       "    </tr>\n",
       "    <tr>\n",
       "      <th>2021-09-01</th>\n",
       "      <td>555.407111</td>\n",
       "    </tr>\n",
       "    <tr>\n",
       "      <th>2021-09-02</th>\n",
       "      <td>558.530237</td>\n",
       "    </tr>\n",
       "    <tr>\n",
       "      <th>2021-09-03</th>\n",
       "      <td>644.850606</td>\n",
       "    </tr>\n",
       "    <tr>\n",
       "      <th>2021-09-04</th>\n",
       "      <td>594.709814</td>\n",
       "    </tr>\n",
       "    <tr>\n",
       "      <th>2021-09-05</th>\n",
       "      <td>670.024210</td>\n",
       "    </tr>\n",
       "    <tr>\n",
       "      <th>2021-09-06</th>\n",
       "      <td>657.567880</td>\n",
       "    </tr>\n",
       "    <tr>\n",
       "      <th>2021-09-07</th>\n",
       "      <td>577.586767</td>\n",
       "    </tr>\n",
       "    <tr>\n",
       "      <th>2021-09-08</th>\n",
       "      <td>578.382327</td>\n",
       "    </tr>\n",
       "    <tr>\n",
       "      <th>2021-09-09</th>\n",
       "      <td>528.450569</td>\n",
       "    </tr>\n",
       "    <tr>\n",
       "      <th>2021-09-10</th>\n",
       "      <td>550.474328</td>\n",
       "    </tr>\n",
       "    <tr>\n",
       "      <th>2021-09-11</th>\n",
       "      <td>523.369167</td>\n",
       "    </tr>\n",
       "    <tr>\n",
       "      <th>2021-09-12</th>\n",
       "      <td>643.239879</td>\n",
       "    </tr>\n",
       "    <tr>\n",
       "      <th>2021-09-13</th>\n",
       "      <td>554.557302</td>\n",
       "    </tr>\n",
       "    <tr>\n",
       "      <th>2021-09-14</th>\n",
       "      <td>510.625824</td>\n",
       "    </tr>\n",
       "    <tr>\n",
       "      <th>2021-09-15</th>\n",
       "      <td>568.928850</td>\n",
       "    </tr>\n",
       "    <tr>\n",
       "      <th>2021-09-16</th>\n",
       "      <td>630.967320</td>\n",
       "    </tr>\n",
       "    <tr>\n",
       "      <th>2021-09-17</th>\n",
       "      <td>560.545336</td>\n",
       "    </tr>\n",
       "    <tr>\n",
       "      <th>2021-09-18</th>\n",
       "      <td>747.710550</td>\n",
       "    </tr>\n",
       "  </tbody>\n",
       "</table>\n",
       "</div>"
      ],
      "text/plain": [
       "            nsw_new_cases\n",
       "2021-08-20     558.036391\n",
       "2021-08-21     610.938848\n",
       "2021-08-22     572.472202\n",
       "2021-08-23     620.459811\n",
       "2021-08-24     620.740173\n",
       "2021-08-25     614.238283\n",
       "2021-08-26     473.163689\n",
       "2021-08-27     555.803078\n",
       "2021-08-28     583.289639\n",
       "2021-08-29     586.224014\n",
       "2021-08-30     569.330565\n",
       "2021-08-31     705.204065\n",
       "2021-09-01     555.407111\n",
       "2021-09-02     558.530237\n",
       "2021-09-03     644.850606\n",
       "2021-09-04     594.709814\n",
       "2021-09-05     670.024210\n",
       "2021-09-06     657.567880\n",
       "2021-09-07     577.586767\n",
       "2021-09-08     578.382327\n",
       "2021-09-09     528.450569\n",
       "2021-09-10     550.474328\n",
       "2021-09-11     523.369167\n",
       "2021-09-12     643.239879\n",
       "2021-09-13     554.557302\n",
       "2021-09-14     510.625824\n",
       "2021-09-15     568.928850\n",
       "2021-09-16     630.967320\n",
       "2021-09-17     560.545336\n",
       "2021-09-18     747.710550"
      ]
     },
     "execution_count": 35,
     "metadata": {},
     "output_type": "execute_result"
    }
   ],
   "source": [
    "# the forecast dataframe\n",
    "forecast_30_df"
   ]
  },
  {
   "cell_type": "code",
   "execution_count": 36,
   "metadata": {},
   "outputs": [],
   "source": [
    "# save the forecast into an excel format\n",
    "forecast_30_df.to_excel('nsw_forecst_30.xlsx')"
   ]
  },
  {
   "cell_type": "code",
   "execution_count": 41,
   "metadata": {},
   "outputs": [
    {
     "data": {
      "image/png": "[encoded data removed]",
      "text/plain": [
       "<Figure size 864x576 with 1 Axes>"
      ]
     },
     "metadata": {},
     "output_type": "display_data"
    }
   ],
   "source": [
    "# plot the forecasts\n",
    "fig_30, ax = plt.subplots(figsize=(12,8))\n",
    "ax.plot(final_df['nsw_new_cases'].loc['2020-12-01':],label='data') \n",
    "ax.plot(forecast_30_df['nsw_new_cases'],label='{} day VARMAX forecast'.format(45))\n",
    "\n",
    "plt.legend()\n",
    "plt.title(\"Forecast for daily covid cases in NSW\")\n",
    "plt.show()"
   ]
  },
  {
   "cell_type": "code",
   "execution_count": 42,
   "metadata": {},
   "outputs": [],
   "source": [
    "fig_30.savefig('forecast_30.png')"
   ]
  },
  {
   "cell_type": "code",
   "execution_count": null,
   "metadata": {},
   "outputs": [],
   "source": []
  }
 ],
 "metadata": {
  "kernelspec": {
   "display_name": "Python 3",
   "language": "python",
   "name": "python3"
  },
  "language_info": {
   "codemirror_mode": {
    "name": "ipython",
    "version": 3
   },
   "file_extension": ".py",
   "mimetype": "text/x-python",
   "name": "python",
   "nbconvert_exporter": "python",
   "pygments_lexer": "ipython3",
   "version": "3.7.4"
  }
 },
 "nbformat": 4,
 "nbformat_minor": 4
}
