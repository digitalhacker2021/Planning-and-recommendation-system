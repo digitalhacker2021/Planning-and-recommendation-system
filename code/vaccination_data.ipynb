{
 "cells": [
  {
   "cell_type": "code",
   "execution_count": 14,
   "metadata": {},
   "outputs": [],
   "source": [
    "import pandas as pd\n",
    "import matplotlib.pyplot as plt\n",
    "import seaborn as sns\n",
    "\n",
    "from statsmodels.tsa.api import SimpleExpSmoothing, Holt\n",
    "\n",
    "import warnings\n",
    "warnings.filterwarnings(\"ignore\")\n",
    "sns.set_style(\"darkgrid\")"
   ]
  },
  {
   "cell_type": "code",
   "execution_count": 2,
   "metadata": {},
   "outputs": [],
   "source": [
    "vacc_data = pd.read_excel(\"vaccination_data.xlsx\",sheet_name='Sheet2',header=1,engine='openpyxl')"
   ]
  },
  {
   "cell_type": "code",
   "execution_count": 3,
   "metadata": {},
   "outputs": [
    {
     "data": {
      "text/html": [
       "<div>\n",
       "<style scoped>\n",
       "    .dataframe tbody tr th:only-of-type {\n",
       "        vertical-align: middle;\n",
       "    }\n",
       "\n",
       "    .dataframe tbody tr th {\n",
       "        vertical-align: top;\n",
       "    }\n",
       "\n",
       "    .dataframe thead th {\n",
       "        text-align: right;\n",
       "    }\n",
       "</style>\n",
       "<table border=\"1\" class=\"dataframe\">\n",
       "  <thead>\n",
       "    <tr style=\"text-align: right;\">\n",
       "      <th></th>\n",
       "      <th>DATE</th>\n",
       "      <th>FIRST</th>\n",
       "      <th>SECOND</th>\n",
       "    </tr>\n",
       "  </thead>\n",
       "  <tbody>\n",
       "    <tr>\n",
       "      <th>0</th>\n",
       "      <td>2021-08-21</td>\n",
       "      <td>10594203</td>\n",
       "      <td>6057341</td>\n",
       "    </tr>\n",
       "    <tr>\n",
       "      <th>1</th>\n",
       "      <td>2021-08-20</td>\n",
       "      <td>10430722</td>\n",
       "      <td>5913323</td>\n",
       "    </tr>\n",
       "    <tr>\n",
       "      <th>2</th>\n",
       "      <td>2021-08-19</td>\n",
       "      <td>10272611</td>\n",
       "      <td>5771199</td>\n",
       "    </tr>\n",
       "    <tr>\n",
       "      <th>3</th>\n",
       "      <td>2021-08-18</td>\n",
       "      <td>10110379</td>\n",
       "      <td>5627554</td>\n",
       "    </tr>\n",
       "    <tr>\n",
       "      <th>4</th>\n",
       "      <td>2021-08-17</td>\n",
       "      <td>9966261</td>\n",
       "      <td>5498928</td>\n",
       "    </tr>\n",
       "  </tbody>\n",
       "</table>\n",
       "</div>"
      ],
      "text/plain": [
       "        DATE     FIRST   SECOND\n",
       "0 2021-08-21  10594203  6057341\n",
       "1 2021-08-20  10430722  5913323\n",
       "2 2021-08-19  10272611  5771199\n",
       "3 2021-08-18  10110379  5627554\n",
       "4 2021-08-17   9966261  5498928"
      ]
     },
     "execution_count": 3,
     "metadata": {},
     "output_type": "execute_result"
    }
   ],
   "source": [
    "vacc_data.head()"
   ]
  },
  {
   "cell_type": "code",
   "execution_count": 4,
   "metadata": {},
   "outputs": [],
   "source": [
    "vacc_data.sort_values(by='DATE',inplace=True)"
   ]
  },
  {
   "cell_type": "code",
   "execution_count": 5,
   "metadata": {},
   "outputs": [
    {
     "data": {
      "text/plain": [
       "DATE      datetime64[ns]\n",
       "FIRST              int64\n",
       "SECOND             int64\n",
       "dtype: object"
      ]
     },
     "execution_count": 5,
     "metadata": {},
     "output_type": "execute_result"
    }
   ],
   "source": [
    "vacc_data.dtypes"
   ]
  },
  {
   "cell_type": "code",
   "execution_count": 6,
   "metadata": {},
   "outputs": [],
   "source": [
    "vacc_data.set_index('DATE',inplace=True)"
   ]
  },
  {
   "cell_type": "code",
   "execution_count": 7,
   "metadata": {},
   "outputs": [
    {
     "data": {
      "text/html": [
       "<div>\n",
       "<style scoped>\n",
       "    .dataframe tbody tr th:only-of-type {\n",
       "        vertical-align: middle;\n",
       "    }\n",
       "\n",
       "    .dataframe tbody tr th {\n",
       "        vertical-align: top;\n",
       "    }\n",
       "\n",
       "    .dataframe thead th {\n",
       "        text-align: right;\n",
       "    }\n",
       "</style>\n",
       "<table border=\"1\" class=\"dataframe\">\n",
       "  <thead>\n",
       "    <tr style=\"text-align: right;\">\n",
       "      <th></th>\n",
       "      <th>FIRST</th>\n",
       "      <th>SECOND</th>\n",
       "    </tr>\n",
       "    <tr>\n",
       "      <th>DATE</th>\n",
       "      <th></th>\n",
       "      <th></th>\n",
       "    </tr>\n",
       "  </thead>\n",
       "  <tbody>\n",
       "    <tr>\n",
       "      <th>2021-02-15</th>\n",
       "      <td>0</td>\n",
       "      <td>0</td>\n",
       "    </tr>\n",
       "    <tr>\n",
       "      <th>2021-02-16</th>\n",
       "      <td>0</td>\n",
       "      <td>0</td>\n",
       "    </tr>\n",
       "    <tr>\n",
       "      <th>2021-02-17</th>\n",
       "      <td>0</td>\n",
       "      <td>0</td>\n",
       "    </tr>\n",
       "    <tr>\n",
       "      <th>2021-02-18</th>\n",
       "      <td>0</td>\n",
       "      <td>0</td>\n",
       "    </tr>\n",
       "    <tr>\n",
       "      <th>2021-02-19</th>\n",
       "      <td>0</td>\n",
       "      <td>0</td>\n",
       "    </tr>\n",
       "  </tbody>\n",
       "</table>\n",
       "</div>"
      ],
      "text/plain": [
       "            FIRST  SECOND\n",
       "DATE                     \n",
       "2021-02-15      0       0\n",
       "2021-02-16      0       0\n",
       "2021-02-17      0       0\n",
       "2021-02-18      0       0\n",
       "2021-02-19      0       0"
      ]
     },
     "execution_count": 7,
     "metadata": {},
     "output_type": "execute_result"
    }
   ],
   "source": [
    "vacc_data.head()"
   ]
  },
  {
   "cell_type": "code",
   "execution_count": 8,
   "metadata": {},
   "outputs": [
    {
     "data": {
      "text/html": [
       "<div>\n",
       "<style scoped>\n",
       "    .dataframe tbody tr th:only-of-type {\n",
       "        vertical-align: middle;\n",
       "    }\n",
       "\n",
       "    .dataframe tbody tr th {\n",
       "        vertical-align: top;\n",
       "    }\n",
       "\n",
       "    .dataframe thead th {\n",
       "        text-align: right;\n",
       "    }\n",
       "</style>\n",
       "<table border=\"1\" class=\"dataframe\">\n",
       "  <thead>\n",
       "    <tr style=\"text-align: right;\">\n",
       "      <th></th>\n",
       "      <th>FIRST</th>\n",
       "      <th>SECOND</th>\n",
       "    </tr>\n",
       "    <tr>\n",
       "      <th>DATE</th>\n",
       "      <th></th>\n",
       "      <th></th>\n",
       "    </tr>\n",
       "  </thead>\n",
       "  <tbody>\n",
       "    <tr>\n",
       "      <th>2021-08-17</th>\n",
       "      <td>9966261</td>\n",
       "      <td>5498928</td>\n",
       "    </tr>\n",
       "    <tr>\n",
       "      <th>2021-08-18</th>\n",
       "      <td>10110379</td>\n",
       "      <td>5627554</td>\n",
       "    </tr>\n",
       "    <tr>\n",
       "      <th>2021-08-19</th>\n",
       "      <td>10272611</td>\n",
       "      <td>5771199</td>\n",
       "    </tr>\n",
       "    <tr>\n",
       "      <th>2021-08-20</th>\n",
       "      <td>10430722</td>\n",
       "      <td>5913323</td>\n",
       "    </tr>\n",
       "    <tr>\n",
       "      <th>2021-08-21</th>\n",
       "      <td>10594203</td>\n",
       "      <td>6057341</td>\n",
       "    </tr>\n",
       "  </tbody>\n",
       "</table>\n",
       "</div>"
      ],
      "text/plain": [
       "               FIRST   SECOND\n",
       "DATE                         \n",
       "2021-08-17   9966261  5498928\n",
       "2021-08-18  10110379  5627554\n",
       "2021-08-19  10272611  5771199\n",
       "2021-08-20  10430722  5913323\n",
       "2021-08-21  10594203  6057341"
      ]
     },
     "execution_count": 8,
     "metadata": {},
     "output_type": "execute_result"
    }
   ],
   "source": [
    "vacc_data.tail()"
   ]
  },
  {
   "cell_type": "code",
   "execution_count": 13,
   "metadata": {},
   "outputs": [
    {
     "data": {
      "image/png": "[encoded data removed]",
      "text/plain": [
       "<Figure size 432x288 with 1 Axes>"
      ]
     },
     "metadata": {},
     "output_type": "display_data"
    }
   ],
   "source": [
    "vacc_data['FIRST'].plot();"
   ]
  },
  {
   "cell_type": "code",
   "execution_count": 10,
   "metadata": {},
   "outputs": [],
   "source": [
    "fit1 = SimpleExpSmoothing(vacc_data['FIRST'], initialization_method=\"heuristic\").fit(smoothing_level=0.2,optimized=False)\n",
    "\n",
    "fcast1 = fit1.forecast(30)"
   ]
  },
  {
   "cell_type": "code",
   "execution_count": 11,
   "metadata": {},
   "outputs": [
    {
     "data": {
      "text/plain": [
       "2021-08-22    1.004284e+07\n",
       "2021-08-23    1.004284e+07\n",
       "2021-08-24    1.004284e+07\n",
       "2021-08-25    1.004284e+07\n",
       "2021-08-26    1.004284e+07\n",
       "2021-08-27    1.004284e+07\n",
       "2021-08-28    1.004284e+07\n",
       "2021-08-29    1.004284e+07\n",
       "2021-08-30    1.004284e+07\n",
       "2021-08-31    1.004284e+07\n",
       "2021-09-01    1.004284e+07\n",
       "2021-09-02    1.004284e+07\n",
       "2021-09-03    1.004284e+07\n",
       "2021-09-04    1.004284e+07\n",
       "2021-09-05    1.004284e+07\n",
       "2021-09-06    1.004284e+07\n",
       "2021-09-07    1.004284e+07\n",
       "2021-09-08    1.004284e+07\n",
       "2021-09-09    1.004284e+07\n",
       "2021-09-10    1.004284e+07\n",
       "2021-09-11    1.004284e+07\n",
       "2021-09-12    1.004284e+07\n",
       "2021-09-13    1.004284e+07\n",
       "2021-09-14    1.004284e+07\n",
       "2021-09-15    1.004284e+07\n",
       "2021-09-16    1.004284e+07\n",
       "2021-09-17    1.004284e+07\n",
       "2021-09-18    1.004284e+07\n",
       "2021-09-19    1.004284e+07\n",
       "2021-09-20    1.004284e+07\n",
       "Freq: D, dtype: float64"
      ]
     },
     "execution_count": 11,
     "metadata": {},
     "output_type": "execute_result"
    }
   ],
   "source": [
    "fcast1"
   ]
  },
  {
   "cell_type": "code",
   "execution_count": 20,
   "metadata": {},
   "outputs": [],
   "source": [
    "fit1 = Holt(vacc_data['FIRST'], initialization_method=\"estimated\").fit(smoothing_level=0.8, \n",
    "                                                                       smoothing_trend=0.2, optimized=False)\n",
    "fcast1 = fit1.forecast(30).rename(\"Forecast values\")"
   ]
  },
  {
   "cell_type": "code",
   "execution_count": 21,
   "metadata": {},
   "outputs": [
    {
     "data": {
      "text/html": [
       "<div>\n",
       "<style scoped>\n",
       "    .dataframe tbody tr th:only-of-type {\n",
       "        vertical-align: middle;\n",
       "    }\n",
       "\n",
       "    .dataframe tbody tr th {\n",
       "        vertical-align: top;\n",
       "    }\n",
       "\n",
       "    .dataframe thead th {\n",
       "        text-align: right;\n",
       "    }\n",
       "</style>\n",
       "<table border=\"1\" class=\"dataframe\">\n",
       "  <thead>\n",
       "    <tr style=\"text-align: right;\">\n",
       "      <th></th>\n",
       "      <th>Forecast values</th>\n",
       "    </tr>\n",
       "  </thead>\n",
       "  <tbody>\n",
       "    <tr>\n",
       "      <th>2021-08-22</th>\n",
       "      <td>1.072299e+07</td>\n",
       "    </tr>\n",
       "    <tr>\n",
       "      <th>2021-08-23</th>\n",
       "      <td>1.086024e+07</td>\n",
       "    </tr>\n",
       "    <tr>\n",
       "      <th>2021-08-24</th>\n",
       "      <td>1.099749e+07</td>\n",
       "    </tr>\n",
       "    <tr>\n",
       "      <th>2021-08-25</th>\n",
       "      <td>1.113473e+07</td>\n",
       "    </tr>\n",
       "    <tr>\n",
       "      <th>2021-08-26</th>\n",
       "      <td>1.127198e+07</td>\n",
       "    </tr>\n",
       "  </tbody>\n",
       "</table>\n",
       "</div>"
      ],
      "text/plain": [
       "            Forecast values\n",
       "2021-08-22     1.072299e+07\n",
       "2021-08-23     1.086024e+07\n",
       "2021-08-24     1.099749e+07\n",
       "2021-08-25     1.113473e+07\n",
       "2021-08-26     1.127198e+07"
      ]
     },
     "execution_count": 21,
     "metadata": {},
     "output_type": "execute_result"
    }
   ],
   "source": [
    "forecast_first = pd.DataFrame(fcast1)\n",
    "forecast_first.head()"
   ]
  },
  {
   "cell_type": "code",
   "execution_count": 30,
   "metadata": {},
   "outputs": [
    {
     "data": {
      "image/png": "[encoded data removed]",
      "text/plain": [
       "<Figure size 864x576 with 1 Axes>"
      ]
     },
     "metadata": {},
     "output_type": "display_data"
    }
   ],
   "source": [
    "# plot the forecasts\n",
    "fig, ax = plt.subplots(figsize=(12,8))\n",
    "ax.plot(vacc_data['FIRST'],label='data') \n",
    "ax.plot(forecast_first['Forecast values'],label='Forecasted values')\n",
    "\n",
    "#y_min, y_max = plt. ylim()\n",
    "\n",
    "#scale_factor = 0.1\n",
    "#plt.ylim(ymin*scale_factor,y_max*scale_factor)\n",
    "plt.yscale('linear')\n",
    "plt.legend()\n",
    "plt.show()"
   ]
  },
  {
   "cell_type": "code",
   "execution_count": 33,
   "metadata": {},
   "outputs": [
    {
     "data": {
      "text/plain": [
       "[<matplotlib.lines.Line2D at 0x23e6b0c4ec8>]"
      ]
     },
     "execution_count": 33,
     "metadata": {},
     "output_type": "execute_result"
    },
    {
     "data": {
      "image/png": "[encoded data removed]",
      "text/plain": [
       "<Figure size 864x576 with 1 Axes>"
      ]
     },
     "metadata": {},
     "output_type": "display_data"
    }
   ],
   "source": [
    "fig, ax = plt.subplots(figsize=(12,8))\n",
    "ax.yaxis.get_major_formatter().set_scientific(False)\n",
    "ax.yaxis.get_major_formatter().set_useOffset(False)\n",
    "\n",
    "ax.plot(vacc_data['FIRST'],label='data') \n",
    "ax.plot(forecast_first['Forecast values'],label='Forecasted values')"
   ]
  },
  {
   "cell_type": "code",
   "execution_count": 34,
   "metadata": {},
   "outputs": [],
   "source": [
    "fig.savefig(\"vacc_forecast.png\")"
   ]
  },
  {
   "cell_type": "code",
   "execution_count": null,
   "metadata": {},
   "outputs": [],
   "source": []
  }
 ],
 "metadata": {
  "kernelspec": {
   "display_name": "Python 3",
   "language": "python",
   "name": "python3"
  },
  "language_info": {
   "codemirror_mode": {
    "name": "ipython",
    "version": 3
   },
   "file_extension": ".py",
   "mimetype": "text/x-python",
   "name": "python",
   "nbconvert_exporter": "python",
   "pygments_lexer": "ipython3",
   "version": "3.7.4"
  }
 },
 "nbformat": 4,
 "nbformat_minor": 4
}
